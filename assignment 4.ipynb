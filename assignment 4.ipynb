{
 "cells": [
  {
   "cell_type": "code",
   "execution_count": 14,
   "metadata": {},
   "outputs": [
    {
     "name": "stdout",
     "output_type": "stream",
     "text": [
      " Sorry, No extra marks for good handwriting!\n"
     ]
    }
   ],
   "source": [
    "#ques 1\n",
    "a=int(input(\"Enter marks=\"))\n",
    "if a<25 :\n",
    "    print('F')\n",
    "elif 25<=a<45 :\n",
    "    print('E')\n",
    "elif 45<=a<50 :\n",
    "    print('D')\n",
    "elif 50<=a<60 :\n",
    "    print('C')\n",
    "elif 60<=a<80 :\n",
    "    print('B')\n",
    "elif 100>=a>=80 :\n",
    "    print('A')\n",
    "else:\n",
    "    print(\" Sorry, No extra marks for good handwriting!\")    \n",
    "\n",
    "\n",
    "    \n",
    "   "
   ]
  },
  {
   "cell_type": "code",
   "execution_count": 5,
   "metadata": {},
   "outputs": [
    {
     "name": "stdout",
     "output_type": "stream",
     "text": [
      "Correct!\n",
      "Correct!\n",
      "Correct!\n",
      "Correct!\n",
      "Correct!\n",
      "Correct!\n",
      "Correct!\n",
      "Correct!\n",
      "Correct!\n",
      "Correct!\n"
     ]
    }
   ],
   "source": [
    "#ques 3\n",
    "import random\n",
    "QuestionNo = 10\n",
    "def main():\n",
    "    random.seed()\n",
    "    count = 0\n",
    "    while count < QuestionNo:\n",
    "        FirstNumber = random.randint(1, 10)\n",
    "        SecondNumber = random.randint(1, 10)\n",
    "        count += 1\n",
    "        Response = int(input(\"What is \" + str(FirstNumber) + \"x\" + str(SecondNumber) + \".\"))\n",
    "        CorrectAnswer = int(FirstNumber*SecondNumber)\n",
    "        if Response == CorrectAnswer :\n",
    "            print(\"Correct!\")\n",
    "        else :\n",
    "            print(\"Sorry, the answer is\", CorrectAnswer, \".\")\n",
    "main()\n"
   ]
  },
  {
   "cell_type": "code",
   "execution_count": null,
   "metadata": {},
   "outputs": [
    {
     "name": "stdout",
     "output_type": "stream",
     "text": [
      "2024 is a Leap Year\n"
     ]
    }
   ],
   "source": [
    "#ques 2\n",
    "LeapYear = int(input(\"Enter year: \"))\n",
    "\n",
    "if LeapYear % 400 == 0 :\n",
    "    print(LeapYear, \"is a Leap Year\")\n",
    "elif LeapYear % 100 == 0 :\n",
    "    print(LeapYear, \"is not a Leap Year\")\n",
    "elif LeapYear % 4 == 0 :\n",
    "    print(LeapYear, \"is a Leap Year\")\n",
    "else :\n",
    "    print(LeapYear, \"is not a Leap Year\")\n",
    "\n",
    "\n",
    "\n"
   ]
  },
  {
   "cell_type": "code",
   "execution_count": 3,
   "metadata": {},
   "outputs": [
    {
     "name": "stdout",
     "output_type": "stream",
     "text": [
      "177 candies are in the bowl!\n"
     ]
    }
   ],
   "source": [
    "#ques 4\n",
    "for TotalCandies in range(200):\n",
    "    if (TotalCandies % 5 != 2):\n",
    "        continue\n",
    "    if (TotalCandies % 6 != 3):\n",
    "        continue\n",
    "    if (TotalCandies % 7 != 2):\n",
    "        continue\n",
    "\n",
    "    print(str(TotalCandies) + \" candies are in the bowl!\")\n",
    "    break\n"
   ]
  }
 ],
 "metadata": {
  "kernelspec": {
   "display_name": "Python 3",
   "language": "python",
   "name": "python3"
  },
  "language_info": {
   "codemirror_mode": {
    "name": "ipython",
    "version": 3
   },
   "file_extension": ".py",
   "mimetype": "text/x-python",
   "name": "python",
   "nbconvert_exporter": "python",
   "pygments_lexer": "ipython3",
   "version": "3.10.9"
  },
  "orig_nbformat": 4,
  "vscode": {
   "interpreter": {
    "hash": "7536d7b229462f4296d4c0dae49c3bd6cd3990c783d6b9d88ce3c31a78605890"
   }
  }
 },
 "nbformat": 4,
 "nbformat_minor": 2
}
